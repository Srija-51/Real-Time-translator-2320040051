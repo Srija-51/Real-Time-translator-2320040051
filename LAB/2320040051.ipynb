{
  "nbformat": 4,
  "nbformat_minor": 0,
  "metadata": {
    "colab": {
      "provenance": []
    },
    "kernelspec": {
      "name": "python3",
      "display_name": "Python 3"
    },
    "language_info": {
      "name": "python"
    }
  },
  "cells": [
    {
      "cell_type": "code",
      "execution_count": null,
      "metadata": {
        "colab": {
          "base_uri": "https://localhost:8080/"
        },
        "id": "plrj9Uj3uYiW",
        "outputId": "b526a725-815c-42b7-ca9e-c0848efc8a5f"
      },
      "outputs": [
        {
          "output_type": "stream",
          "name": "stdout",
          "text": [
            "Coloring of vertices:\n",
            "Vertex 0 --> Color 0\n",
            "Vertex 1 --> Color 1\n",
            "Vertex 2 --> Color 2\n",
            "Vertex 3 --> Color 0\n",
            "Vertex 4 --> Color 1\n"
          ]
        }
      ],
      "source": [
        "class Graph:\n",
        "    def __init__(self, vertices):\n",
        "        self.V = vertices\n",
        "        self.graph = [[] for _ in range(vertices)]\n",
        "\n",
        "    def add_edge(self, u, v):\n",
        "        self.graph[u].append(v)\n",
        "        self.graph[v].append(u)\n",
        "\n",
        "    def greedy_coloring(self):\n",
        "        # Initialize all vertices as unassigned\n",
        "\n",
        "        result = [-1] * self.V\n",
        "\n",
        "        # Assign the first color to the first vertex\n",
        "        result[0] = 0\n",
        "\n",
        "        # A temporary array to store the colors of the adjacent vertices\n",
        "        available = [False] * self.V\n",
        "\n",
        "        # Assign colors to remaining V-1 vertices\n",
        "        for u in range(1, self.V):\n",
        "            # Mark colors of adjacent vertices as unavailable\n",
        "            for v in self.graph[u]:\n",
        "                if result[v] != -1:\n",
        "                    available[result[v]] = True\n",
        "\n",
        "            # Find the first available color\n",
        "            for color in range(self.V):\n",
        "                if not available[color]:\n",
        "                    break\n",
        "\n",
        "            result[u] = color\n",
        "\n",
        "            # Reset the values back to false for the next iteration\n",
        "            for v in self.graph[u]:\n",
        "                if result[v] != -1:\n",
        "                    available[result[v]] = False\n",
        "\n",
        "        # Print the result\n",
        "        for u in range(self.V):\n",
        "            print(f\"Vertex {u} --> Color {result[u]}\")\n",
        "\n",
        "# Example usage:\n",
        "if __name__ == \"__main__\":\n",
        "    # Create a graph with 5 vertices\n",
        "    graph = Graph(5)\n",
        "    graph.add_edge(0, 1)\n",
        "    graph.add_edge(0, 2)\n",
        "    graph.add_edge(1, 2)\n",
        "    graph.add_edge(1, 3)\n",
        "    graph.add_edge(2, 3)\n",
        "    graph.add_edge(3, 4)\n",
        "\n",
        "    print(\"Coloring of vertices:\")\n",
        "    graph.greedy_coloring()"
      ]
    }
  ]
}